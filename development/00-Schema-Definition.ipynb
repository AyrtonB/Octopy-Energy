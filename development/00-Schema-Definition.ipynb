{
 "cells": [
  {
   "cell_type": "markdown",
   "metadata": {},
   "source": [
    "# API Schema Definition\n",
    "\n",
    "<br>\n",
    "\n",
    "This notebook shows how to create the JSON that enables the DownloadManager to generate retrieval methods for each end-point.\n",
    "\n",
    "<br>\n",
    "\n",
    "### Imports"
   ]
  },
  {
   "cell_type": "code",
   "execution_count": 1,
   "metadata": {},
   "outputs": [],
   "source": [
    "import json\n",
    "\n",
    "from IPython.display import JSON"
   ]
  },
  {
   "cell_type": "markdown",
   "metadata": {},
   "source": [
    "<br>\n",
    "\n",
    "### Defining the End-Points"
   ]
  },
  {
   "cell_type": "code",
   "execution_count": 2,
   "metadata": {},
   "outputs": [
    {
     "data": {
      "application/json": {
       "retrieve_electricity_consumption": {
        "arguments": [
         "meter_mpan",
         "meter_serial"
        ],
        "description": "Lists the consumption for an electricity meter",
        "endpoint": "/v1/electricity-meter-points/{meter_mpan}/meters/{meter_serial}/consumption",
        "parameters": [
         "period_from",
         "period_to",
         "page_size",
         "page",
         "order_by",
         "group_by"
        ]
       },
       "retrieve_gas_consumption": {
        "arguments": [
         "meter_mprn",
         "meter_serial"
        ],
        "description": "Lists the consumption for a gas meter",
        "endpoint": "/v1/gas-meter-points/{meter_mprn}/meters/{meter_serial}/consumption",
        "parameters": [
         "period_from",
         "period_to",
         "page_size",
         "order_by",
         "group_by"
        ]
       },
       "retrieve_gsps": {
        "arguments": [],
        "description": "Retrieves grid supply points",
        "endpoint": "/v1/industry/grid-supply-points",
        "parameters": [
         "postcode"
        ]
       },
       "retrieve_meter_point": {
        "arguments": [
         "meter_mpan"
        ],
        "description": "Retrieves a meter-point",
        "endpoint": "/v1/electricity-meter-points/{meter_mpan}",
        "parameters": []
       },
       "retrieve_product": {
        "arguments": [
         "product_code"
        ],
        "description": "Retrieves a product",
        "endpoint": "/v1/products/{product_code}",
        "parameters": [
         "tariffs_active_at"
        ]
       },
       "retrieve_products": {
        "arguments": [],
        "description": "Returns a list of energy products",
        "endpoint": "/v1/products/",
        "parameters": [
         "is_variable",
         "is_green",
         "is_tracker",
         "is_prepay",
         "is_business",
         "available_at"
        ]
       },
       "retrieve_tariff_charges": {
        "arguments": [
         "product_code",
         "tariff_type",
         "tariff_code",
         "charge_type"
        ],
        "description": "Returns a list of unit rates/standing charges",
        "endpoint": "/v1/products/{product_code}/{tariff_type}/{tariff_code}/{charge_type}",
        "parameters": [
         "period_from",
         "period_to",
         "page_size"
        ]
       }
      },
      "text/plain": [
       "<IPython.core.display.JSON object>"
      ]
     },
     "execution_count": 2,
     "metadata": {
      "application/json": {
       "expanded": false,
       "root": "root"
      }
     },
     "output_type": "execute_result"
    }
   ],
   "source": [
    "end_points = {\n",
    "    'retrieve_products': {\n",
    "        'description': 'Returns a list of energy products',\n",
    "        'endpoint': '/v1/products/',\n",
    "        'arguments': [],\n",
    "        'parameters': [\n",
    "            'is_variable',\n",
    "            'is_green',\n",
    "            'is_tracker',\n",
    "            'is_prepay',\n",
    "            'is_business',\n",
    "            'available_at'\n",
    "        ],\n",
    "    },\n",
    "    'retrieve_product': {\n",
    "        'description': 'Retrieves a product',\n",
    "        'endpoint': '/v1/products/{product_code}',\n",
    "        'arguments': [\n",
    "            \"product_code\",\n",
    "        ],\n",
    "        'parameters': [\n",
    "            'tariffs_active_at'\n",
    "        ],\n",
    "    },\n",
    "    'retrieve_tariff_charges': {\n",
    "        'description': 'Returns a list of unit rates/standing charges',\n",
    "        'endpoint': '/v1/products/{product_code}/{tariff_type}/{tariff_code}/{charge_type}',\n",
    "        'arguments': [\n",
    "            'product_code',\n",
    "            'tariff_type',\n",
    "            'tariff_code',\n",
    "            'charge_type',\n",
    "        ],\n",
    "        'parameters': [\n",
    "            'period_from',\n",
    "            'period_to',\n",
    "            'page_size'\n",
    "        ],\n",
    "    },\n",
    "    'retrieve_meter_point': {\n",
    "        'description': 'Retrieves a meter-point',\n",
    "        'endpoint': '/v1/electricity-meter-points/{meter_mpan}',\n",
    "        'arguments': [\n",
    "            'meter_mpan',\n",
    "        ],\n",
    "        'parameters': [],\n",
    "    },\n",
    "    'retrieve_electricity_consumption': {\n",
    "        'description': 'Lists the consumption for an electricity meter',\n",
    "        'endpoint': '/v1/electricity-meter-points/{meter_mpan}/meters/{meter_serial}/consumption',\n",
    "        'arguments': [\n",
    "            'meter_mpan',\n",
    "            'meter_serial'\n",
    "        ],\n",
    "        'parameters': [\n",
    "            'period_from',\n",
    "            'period_to',\n",
    "            'page_size',\n",
    "            'page',\n",
    "            'order_by',\n",
    "            'group_by',\n",
    "        ],\n",
    "    },\n",
    "    'retrieve_gas_consumption': {\n",
    "        'description': 'Lists the consumption for a gas meter',\n",
    "        'endpoint': '/v1/gas-meter-points/{meter_mprn}/meters/{meter_serial}/consumption',\n",
    "        'arguments': [\n",
    "            'meter_mprn',\n",
    "            'meter_serial'\n",
    "        ],\n",
    "        'parameters': [\n",
    "            'period_from',\n",
    "            'period_to',\n",
    "            'page_size',\n",
    "            'order_by',\n",
    "            'group_by',\n",
    "        ],\n",
    "    },\n",
    "    'retrieve_gsps': {\n",
    "        'description': 'Retrieves grid supply points',\n",
    "        'endpoint': '/v1/industry/grid-supply-points',\n",
    "        'arguments': [],\n",
    "        'parameters': [\n",
    "            'postcode'\n",
    "        ],\n",
    "    }  \n",
    "}\n",
    "\n",
    "JSON(end_points)"
   ]
  },
  {
   "cell_type": "markdown",
   "metadata": {},
   "source": [
    "<br>\n",
    "\n",
    "### Saving the End-Points\n",
    "\n",
    "Finally we'll save the dictionary as a JSON in the octopyenergy library"
   ]
  },
  {
   "cell_type": "code",
   "execution_count": 3,
   "metadata": {},
   "outputs": [],
   "source": [
    "with open('../octopyenergy/end_points.json', 'w') as fp:\n",
    "    json.dump(end_points, fp)"
   ]
  }
 ],
 "metadata": {
  "kernelspec": {
   "display_name": "Octopy-Energy",
   "language": "python",
   "name": "octopy-energy"
  },
  "language_info": {
   "codemirror_mode": {
    "name": "ipython",
    "version": 3
   },
   "file_extension": ".py",
   "mimetype": "text/x-python",
   "name": "python",
   "nbconvert_exporter": "python",
   "pygments_lexer": "ipython3",
   "version": "3.7.8"
  }
 },
 "nbformat": 4,
 "nbformat_minor": 4
}
