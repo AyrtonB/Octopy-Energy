{
 "cells": [
  {
   "cell_type": "markdown",
   "metadata": {},
   "source": [
    "<br>\n",
    "\n",
    "### Installing Octopy-Energy\n",
    "\n",
    "The first step to getting running with the library is to install it through pip."
   ]
  },
  {
   "cell_type": "code",
   "execution_count": 1,
   "metadata": {},
   "outputs": [
    {
     "name": "stdout",
     "output_type": "stream",
     "text": [
      "Requirement already satisfied: octopyenergy in c:\\users\\ayrto\\desktop\\phd\\data\\octopy-energy (0.0.1)\n"
     ]
    }
   ],
   "source": [
    "! pip install octopyenergy"
   ]
  },
  {
   "cell_type": "markdown",
   "metadata": {},
   "source": [
    "<br>\n",
    "\n",
    "Once installed `octopyenergy` can be imported into your scripts."
   ]
  },
  {
   "cell_type": "code",
   "execution_count": 25,
   "metadata": {},
   "outputs": [],
   "source": [
    "import octopyenergy as oe\n",
    "from octopyenergy.api import DownloadManager"
   ]
  },
  {
   "cell_type": "markdown",
   "metadata": {},
   "source": [
    "<br>\n",
    "\n",
    "### User Inputs\n",
    "\n",
    "We now need to assign values for our account/meter details, add your own `.env` or replace with standard string assignments.\n",
    "\n",
    "N.b. we recommend that you store your account details in a `.env` file and then use the `dotenv` library to set them as environment variables, which can in turn be picked up by `os` and assigned to local variables."
   ]
  },
  {
   "cell_type": "code",
   "execution_count": 3,
   "metadata": {},
   "outputs": [],
   "source": [
    "import os\n",
    "import dotenv\n",
    "\n",
    "dotenv.load_dotenv('../.env')\n",
    "\n",
    "octopus_account = os.environ['OCTOPUS_ACCOUNT']\n",
    "octopus_api_key = os.environ['OCTOPUS_API_KEY']\n",
    "meter_mpan = os.environ['METER_MPAN']\n",
    "meter_serial = os.environ['METER_SERIAL']"
   ]
  },
  {
   "cell_type": "markdown",
   "metadata": {},
   "source": [
    "<br>\n",
    "\n",
    "### Configuring the Download Manager\n",
    "\n",
    "We'll start by initialising the `DownloadManager`, when we do so we can pass a number of parameters which will configure defaults in the download manager. The `octopus_api_key` is also required for some requests."
   ]
  },
  {
   "cell_type": "code",
   "execution_count": 4,
   "metadata": {},
   "outputs": [
    {
     "data": {
      "text/plain": [
       "Welcome to the octopyenergy DownloadManager! For more information please read the documentation at https://github.com/AyrtonB/Octopy-Energy.\n",
       "\n",
       "The following API end-points are available: \n",
       "retrieve_products, retrieve_product, retrieve_tariff_charges, retrieve_meter_point, retrieve_electricity_consumption, retrieve_gas_consumption, retrieve_gsps\n"
      ]
     },
     "execution_count": 4,
     "metadata": {},
     "output_type": "execute_result"
    }
   ],
   "source": [
    "download_manager = DownloadManager(meter_mpan=meter_mpan, \n",
    "                                   meter_serial=meter_serial, \n",
    "                                   api_key=octopus_api_key)\n",
    "\n",
    "download_manager"
   ]
  },
  {
   "cell_type": "markdown",
   "metadata": {},
   "source": [
    "<br>\n",
    "\n",
    "One of the benefits of specifying these parameters is that they will be used to pre-populate the function docstrings."
   ]
  },
  {
   "cell_type": "code",
   "execution_count": 5,
   "metadata": {},
   "outputs": [
    {
     "name": "stdout",
     "output_type": "stream",
     "text": [
      "Help on function retrieve_meter_point:\n",
      "\n",
      "retrieve_meter_point(meter_mpan='1012627213444', **kwargs)\n",
      "    Retrieves a meter-point\n",
      "    \n",
      "    Parameters:\n",
      "        meter_mpan\n",
      "\n"
     ]
    }
   ],
   "source": [
    "help(download_manager.retrieve_meter_point)"
   ]
  },
  {
   "cell_type": "markdown",
   "metadata": {},
   "source": [
    "<br>\n",
    "\n",
    "Specifying those parameters also reduces the amount of arguments we need to pass when making data requests."
   ]
  },
  {
   "cell_type": "code",
   "execution_count": 6,
   "metadata": {},
   "outputs": [
    {
     "data": {
      "text/plain": [
       "<AxesSubplot:xlabel='interval_start'>"
      ]
     },
     "execution_count": 6,
     "metadata": {},
     "output_type": "execute_result"
    },
    {
     "data": {
      "image/png": "[encoded data removed]",
      "text/plain": [
       "<Figure size 432x288 with 1 Axes>"
      ]
     },
     "metadata": {
      "needs_background": "light"
     },
     "output_type": "display_data"
    }
   ],
   "source": [
    "download_manager.create_elec_consumption_s().plot()"
   ]
  },
  {
   "cell_type": "markdown",
   "metadata": {},
   "source": [
    "<br>\n",
    "\n",
    "A number of the end-points do not require an API key or additional arguments, these will work even when no parameters are specified during the `DownloadManager` initialisation."
   ]
  },
  {
   "cell_type": "code",
   "execution_count": 7,
   "metadata": {},
   "outputs": [
    {
     "data": {
      "text/plain": [
       "{'count': 14,\n",
       " 'next': None,\n",
       " 'previous': None,\n",
       " 'results': [{'group_id': '_A'},\n",
       "  {'group_id': '_B'},\n",
       "  {'group_id': '_C'},\n",
       "  {'group_id': '_D'},\n",
       "  {'group_id': '_E'},\n",
       "  {'group_id': '_F'},\n",
       "  {'group_id': '_G'},\n",
       "  {'group_id': '_H'},\n",
       "  {'group_id': '_J'},\n",
       "  {'group_id': '_K'},\n",
       "  {'group_id': '_L'},\n",
       "  {'group_id': '_M'},\n",
       "  {'group_id': '_N'},\n",
       "  {'group_id': '_P'}]}"
      ]
     },
     "execution_count": 7,
     "metadata": {},
     "output_type": "execute_result"
    }
   ],
   "source": [
    "download_manager = DownloadManager()\n",
    "\n",
    "download_manager.retrieve_gsps().json()"
   ]
  },
  {
   "cell_type": "markdown",
   "metadata": {},
   "source": [
    "<br>\n",
    "\n",
    "For those that do an Exception will be raised detailing why the request was unsuccessful."
   ]
  },
  {
   "cell_type": "code",
   "execution_count": 20,
   "metadata": {},
   "outputs": [
    {
     "name": "stdout",
     "output_type": "stream",
     "text": [
      "Authentication credentials were not provided.\n"
     ]
    }
   ],
   "source": [
    "def request_electricity_consumption(download_manager, meter_mpan, meter_serial):\n",
    "    try:\n",
    "        download_manager.retrieve_electricity_consumption(meter_mpan=meter_mpan, meter_serial=meter_serial)\n",
    "        print('Successfully retrieved!')\n",
    "\n",
    "    except oe.api.SadOctopy as err:\n",
    "        print(err)\n",
    "        \n",
    "request_electricity_consumption(download_manager, meter_mpan, meter_serial)"
   ]
  },
  {
   "cell_type": "markdown",
   "metadata": {},
   "source": [
    "<br>\n",
    "\n",
    "This can easily be remedied by calling the `autheticate` method and passing your api key."
   ]
  },
  {
   "cell_type": "code",
   "execution_count": 21,
   "metadata": {},
   "outputs": [
    {
     "name": "stdout",
     "output_type": "stream",
     "text": [
      "Successfully retrieved!\n"
     ]
    }
   ],
   "source": [
    "download_manager.authenticate(octopus_api_key)\n",
    "\n",
    "request_electricity_consumption(download_manager, meter_mpan, meter_serial)"
   ]
  },
  {
   "cell_type": "markdown",
   "metadata": {},
   "source": [
    "<br>\n",
    "\n",
    "### Abstraction Levels\n",
    "\n",
    "So far we've mainly used the `create_elec_consumption_s` method, this is a high-level function in the API that carries out the request and then converts the response into a tidied `pandas` series. Underneath this layer lie several lower-level functions which can provide us additional control.\n",
    "\n",
    "Here we'll query the `retrieve_electricity_consumption` end-point and extract the JSON response."
   ]
  },
  {
   "cell_type": "code",
   "execution_count": 22,
   "metadata": {},
   "outputs": [
    {
     "data": {
      "application/json": {
       "count": 816,
       "next": "https://api.octopus.energy/v1/electricity-meter-points/1012627213444/meters/20L3351357/consumption/?page=2",
       "previous": null,
       "results": [
        {
         "consumption": 0.008,
         "interval_end": "2020-10-27T23:30:00Z",
         "interval_start": "2020-10-27T23:00:00Z"
        },
        {
         "consumption": 0.007,
         "interval_end": "2020-10-27T23:00:00Z",
         "interval_start": "2020-10-27T22:30:00Z"
        },
        {
         "consumption": 0.008,
         "interval_end": "2020-10-27T22:30:00Z",
         "interval_start": "2020-10-27T22:00:00Z"
        },
        {
         "consumption": 0.008,
         "interval_end": "2020-10-27T22:00:00Z",
         "interval_start": "2020-10-27T21:30:00Z"
        },
        {
         "consumption": 0.007,
         "interval_end": "2020-10-27T21:30:00Z",
         "interval_start": "2020-10-27T21:00:00Z"
        },
        {
         "consumption": 0.008,
         "interval_end": "2020-10-27T21:00:00Z",
         "interval_start": "2020-10-27T20:30:00Z"
        },
        {
         "consumption": 0.007,
         "interval_end": "2020-10-27T20:30:00Z",
         "interval_start": "2020-10-27T20:00:00Z"
        },
        {
         "consumption": 0.007,
         "interval_end": "2020-10-27T20:00:00Z",
         "interval_start": "2020-10-27T19:30:00Z"
        },
        {
         "consumption": 0.008,
         "interval_end": "2020-10-27T19:30:00Z",
         "interval_start": "2020-10-27T19:00:00Z"
        },
        {
         "consumption": 0.007,
         "interval_end": "2020-10-27T19:00:00Z",
         "interval_start": "2020-10-27T18:30:00Z"
        },
        {
         "consumption": 0.008,
         "interval_end": "2020-10-27T18:30:00Z",
         "interval_start": "2020-10-27T18:00:00Z"
        },
        {
         "consumption": 0.007,
         "interval_end": "2020-10-27T18:00:00Z",
         "interval_start": "2020-10-27T17:30:00Z"
        },
        {
         "consumption": 0.007,
         "interval_end": "2020-10-27T17:30:00Z",
         "interval_start": "2020-10-27T17:00:00Z"
        },
        {
         "consumption": 0.008,
         "interval_end": "2020-10-27T17:00:00Z",
         "interval_start": "2020-10-27T16:30:00Z"
        },
        {
         "consumption": 0.007,
         "interval_end": "2020-10-27T16:30:00Z",
         "interval_start": "2020-10-27T16:00:00Z"
        },
        {
         "consumption": 0,
         "interval_end": "2020-10-27T16:00:00Z",
         "interval_start": "2020-10-27T15:30:00Z"
        },
        {
         "consumption": 0,
         "interval_end": "2020-10-27T15:30:00Z",
         "interval_start": "2020-10-27T15:00:00Z"
        },
        {
         "consumption": 0,
         "interval_end": "2020-10-27T15:00:00Z",
         "interval_start": "2020-10-27T14:30:00Z"
        },
        {
         "consumption": 0,
         "interval_end": "2020-10-27T14:30:00Z",
         "interval_start": "2020-10-27T14:00:00Z"
        },
        {
         "consumption": 0,
         "interval_end": "2020-10-27T14:00:00Z",
         "interval_start": "2020-10-27T13:30:00Z"
        },
        {
         "consumption": 0,
         "interval_end": "2020-10-27T13:30:00Z",
         "interval_start": "2020-10-27T13:00:00Z"
        },
        {
         "consumption": 0,
         "interval_end": "2020-10-27T13:00:00Z",
         "interval_start": "2020-10-27T12:30:00Z"
        },
        {
         "consumption": 0,
         "interval_end": "2020-10-27T12:30:00Z",
         "interval_start": "2020-10-27T12:00:00Z"
        },
        {
         "consumption": 0,
         "interval_end": "2020-10-27T12:00:00Z",
         "interval_start": "2020-10-27T11:30:00Z"
        },
        {
         "consumption": 0,
         "interval_end": "2020-10-27T11:30:00Z",
         "interval_start": "2020-10-27T11:00:00Z"
        },
        {
         "consumption": 0,
         "interval_end": "2020-10-27T11:00:00Z",
         "interval_start": "2020-10-27T10:30:00Z"
        },
        {
         "consumption": 0,
         "interval_end": "2020-10-27T10:30:00Z",
         "interval_start": "2020-10-27T10:00:00Z"
        },
        {
         "consumption": 0,
         "interval_end": "2020-10-27T10:00:00Z",
         "interval_start": "2020-10-27T09:30:00Z"
        },
        {
         "consumption": 0,
         "interval_end": "2020-10-27T09:30:00Z",
         "interval_start": "2020-10-27T09:00:00Z"
        },
        {
         "consumption": 0,
         "interval_end": "2020-10-27T09:00:00Z",
         "interval_start": "2020-10-27T08:30:00Z"
        },
        {
         "consumption": 0,
         "interval_end": "2020-10-27T08:30:00Z",
         "interval_start": "2020-10-27T08:00:00Z"
        },
        {
         "consumption": 0,
         "interval_end": "2020-10-27T08:00:00Z",
         "interval_start": "2020-10-27T07:30:00Z"
        },
        {
         "consumption": 0.005,
         "interval_end": "2020-10-27T07:30:00Z",
         "interval_start": "2020-10-27T07:00:00Z"
        },
        {
         "consumption": 0.008,
         "interval_end": "2020-10-27T07:00:00Z",
         "interval_start": "2020-10-27T06:30:00Z"
        },
        {
         "consumption": 0.008,
         "interval_end": "2020-10-27T06:30:00Z",
         "interval_start": "2020-10-27T06:00:00Z"
        },
        {
         "consumption": 0.007,
         "interval_end": "2020-10-27T06:00:00Z",
         "interval_start": "2020-10-27T05:30:00Z"
        },
        {
         "consumption": 0.008,
         "interval_end": "2020-10-27T05:30:00Z",
         "interval_start": "2020-10-27T05:00:00Z"
        },
        {
         "consumption": 0.008,
         "interval_end": "2020-10-27T05:00:00Z",
         "interval_start": "2020-10-27T04:30:00Z"
        },
        {
         "consumption": 0.007,
         "interval_end": "2020-10-27T04:30:00Z",
         "interval_start": "2020-10-27T04:00:00Z"
        },
        {
         "consumption": 0.008,
         "interval_end": "2020-10-27T04:00:00Z",
         "interval_start": "2020-10-27T03:30:00Z"
        },
        {
         "consumption": 0.008,
         "interval_end": "2020-10-27T03:30:00Z",
         "interval_start": "2020-10-27T03:00:00Z"
        },
        {
         "consumption": 0.007,
         "interval_end": "2020-10-27T03:00:00Z",
         "interval_start": "2020-10-27T02:30:00Z"
        },
        {
         "consumption": 0.008,
         "interval_end": "2020-10-27T02:30:00Z",
         "interval_start": "2020-10-27T02:00:00Z"
        },
        {
         "consumption": 0.008,
         "interval_end": "2020-10-27T02:00:00Z",
         "interval_start": "2020-10-27T01:30:00Z"
        },
        {
         "consumption": 0.007,
         "interval_end": "2020-10-27T01:30:00Z",
         "interval_start": "2020-10-27T01:00:00Z"
        },
        {
         "consumption": 0.008,
         "interval_end": "2020-10-27T01:00:00Z",
         "interval_start": "2020-10-27T00:30:00Z"
        },
        {
         "consumption": 0.007,
         "interval_end": "2020-10-27T00:30:00Z",
         "interval_start": "2020-10-27T00:00:00Z"
        },
        {
         "consumption": 0.008,
         "interval_end": "2020-10-27T00:00:00Z",
         "interval_start": "2020-10-26T23:30:00Z"
        },
        {
         "consumption": 0.008,
         "interval_end": "2020-10-26T23:30:00Z",
         "interval_start": "2020-10-26T23:00:00Z"
        },
        {
         "consumption": 0.007,
         "interval_end": "2020-10-26T23:00:00Z",
         "interval_start": "2020-10-26T22:30:00Z"
        },
        {
         "consumption": 0.008,
         "interval_end": "2020-10-26T22:30:00Z",
         "interval_start": "2020-10-26T22:00:00Z"
        },
        {
         "consumption": 0.007,
         "interval_end": "2020-10-26T22:00:00Z",
         "interval_start": "2020-10-26T21:30:00Z"
        },
        {
         "consumption": 0.008,
         "interval_end": "2020-10-26T21:30:00Z",
         "interval_start": "2020-10-26T21:00:00Z"
        },
        {
         "consumption": 0.007,
         "interval_end": "2020-10-26T21:00:00Z",
         "interval_start": "2020-10-26T20:30:00Z"
        },
        {
         "consumption": 0.008,
         "interval_end": "2020-10-26T20:30:00Z",
         "interval_start": "2020-10-26T20:00:00Z"
        },
        {
         "consumption": 0.007,
         "interval_end": "2020-10-26T20:00:00Z",
         "interval_start": "2020-10-26T19:30:00Z"
        },
        {
         "consumption": 0.008,
         "interval_end": "2020-10-26T19:30:00Z",
         "interval_start": "2020-10-26T19:00:00Z"
        },
        {
         "consumption": 0.007,
         "interval_end": "2020-10-26T19:00:00Z",
         "interval_start": "2020-10-26T18:30:00Z"
        },
        {
         "consumption": 0.007,
         "interval_end": "2020-10-26T18:30:00Z",
         "interval_start": "2020-10-26T18:00:00Z"
        },
        {
         "consumption": 0.008,
         "interval_end": "2020-10-26T18:00:00Z",
         "interval_start": "2020-10-26T17:30:00Z"
        },
        {
         "consumption": 0.007,
         "interval_end": "2020-10-26T17:30:00Z",
         "interval_start": "2020-10-26T17:00:00Z"
        },
        {
         "consumption": 0.007,
         "interval_end": "2020-10-26T17:00:00Z",
         "interval_start": "2020-10-26T16:30:00Z"
        },
        {
         "consumption": 0,
         "interval_end": "2020-10-26T16:30:00Z",
         "interval_start": "2020-10-26T16:00:00Z"
        },
        {
         "consumption": 0,
         "interval_end": "2020-10-26T16:00:00Z",
         "interval_start": "2020-10-26T15:30:00Z"
        },
        {
         "consumption": 0,
         "interval_end": "2020-10-26T15:30:00Z",
         "interval_start": "2020-10-26T15:00:00Z"
        },
        {
         "consumption": 0,
         "interval_end": "2020-10-26T15:00:00Z",
         "interval_start": "2020-10-26T14:30:00Z"
        },
        {
         "consumption": 0,
         "interval_end": "2020-10-26T14:30:00Z",
         "interval_start": "2020-10-26T14:00:00Z"
        },
        {
         "consumption": 0,
         "interval_end": "2020-10-26T14:00:00Z",
         "interval_start": "2020-10-26T13:30:00Z"
        },
        {
         "consumption": 0,
         "interval_end": "2020-10-26T13:30:00Z",
         "interval_start": "2020-10-26T13:00:00Z"
        },
        {
         "consumption": 0,
         "interval_end": "2020-10-26T13:00:00Z",
         "interval_start": "2020-10-26T12:30:00Z"
        },
        {
         "consumption": 0,
         "interval_end": "2020-10-26T12:30:00Z",
         "interval_start": "2020-10-26T12:00:00Z"
        },
        {
         "consumption": 0,
         "interval_end": "2020-10-26T12:00:00Z",
         "interval_start": "2020-10-26T11:30:00Z"
        },
        {
         "consumption": 0,
         "interval_end": "2020-10-26T11:30:00Z",
         "interval_start": "2020-10-26T11:00:00Z"
        },
        {
         "consumption": 0,
         "interval_end": "2020-10-26T11:00:00Z",
         "interval_start": "2020-10-26T10:30:00Z"
        },
        {
         "consumption": 0,
         "interval_end": "2020-10-26T10:30:00Z",
         "interval_start": "2020-10-26T10:00:00Z"
        },
        {
         "consumption": 0,
         "interval_end": "2020-10-26T10:00:00Z",
         "interval_start": "2020-10-26T09:30:00Z"
        },
        {
         "consumption": 0,
         "interval_end": "2020-10-26T09:30:00Z",
         "interval_start": "2020-10-26T09:00:00Z"
        },
        {
         "consumption": 0,
         "interval_end": "2020-10-26T09:00:00Z",
         "interval_start": "2020-10-26T08:30:00Z"
        },
        {
         "consumption": 0,
         "interval_end": "2020-10-26T08:30:00Z",
         "interval_start": "2020-10-26T08:00:00Z"
        },
        {
         "consumption": 0,
         "interval_end": "2020-10-26T08:00:00Z",
         "interval_start": "2020-10-26T07:30:00Z"
        },
        {
         "consumption": 0,
         "interval_end": "2020-10-26T07:30:00Z",
         "interval_start": "2020-10-26T07:00:00Z"
        },
        {
         "consumption": 0.007,
         "interval_end": "2020-10-26T07:00:00Z",
         "interval_start": "2020-10-26T06:30:00Z"
        },
        {
         "consumption": 0.007,
         "interval_end": "2020-10-26T06:30:00Z",
         "interval_start": "2020-10-26T06:00:00Z"
        },
        {
         "consumption": 0.008,
         "interval_end": "2020-10-26T06:00:00Z",
         "interval_start": "2020-10-26T05:30:00Z"
        },
        {
         "consumption": 0.008,
         "interval_end": "2020-10-26T05:30:00Z",
         "interval_start": "2020-10-26T05:00:00Z"
        },
        {
         "consumption": 0.007,
         "interval_end": "2020-10-26T05:00:00Z",
         "interval_start": "2020-10-26T04:30:00Z"
        },
        {
         "consumption": 0.008,
         "interval_end": "2020-10-26T04:30:00Z",
         "interval_start": "2020-10-26T04:00:00Z"
        },
        {
         "consumption": 0.008,
         "interval_end": "2020-10-26T04:00:00Z",
         "interval_start": "2020-10-26T03:30:00Z"
        },
        {
         "consumption": 0.007,
         "interval_end": "2020-10-26T03:30:00Z",
         "interval_start": "2020-10-26T03:00:00Z"
        },
        {
         "consumption": 0.008,
         "interval_end": "2020-10-26T03:00:00Z",
         "interval_start": "2020-10-26T02:30:00Z"
        },
        {
         "consumption": 0.007,
         "interval_end": "2020-10-26T02:30:00Z",
         "interval_start": "2020-10-26T02:00:00Z"
        },
        {
         "consumption": 0.008,
         "interval_end": "2020-10-26T02:00:00Z",
         "interval_start": "2020-10-26T01:30:00Z"
        },
        {
         "consumption": 0.008,
         "interval_end": "2020-10-26T01:30:00Z",
         "interval_start": "2020-10-26T01:00:00Z"
        },
        {
         "consumption": 0.007,
         "interval_end": "2020-10-26T01:00:00Z",
         "interval_start": "2020-10-26T00:30:00Z"
        },
        {
         "consumption": 0.008,
         "interval_end": "2020-10-26T00:30:00Z",
         "interval_start": "2020-10-26T00:00:00Z"
        },
        {
         "consumption": 0.008,
         "interval_end": "2020-10-26T00:00:00Z",
         "interval_start": "2020-10-25T23:30:00Z"
        },
        {
         "consumption": 0.007,
         "interval_end": "2020-10-25T23:30:00Z",
         "interval_start": "2020-10-25T23:00:00Z"
        },
        {
         "consumption": 0.008,
         "interval_end": "2020-10-25T23:00:00Z",
         "interval_start": "2020-10-25T22:30:00Z"
        },
        {
         "consumption": 0.008,
         "interval_end": "2020-10-25T22:30:00Z",
         "interval_start": "2020-10-25T22:00:00Z"
        },
        {
         "consumption": 0.008,
         "interval_end": "2020-10-25T22:00:00Z",
         "interval_start": "2020-10-25T21:30:00Z"
        }
       ]
      },
      "text/plain": [
       "<IPython.core.display.JSON object>"
      ]
     },
     "execution_count": 22,
     "metadata": {
      "application/json": {
       "expanded": false,
       "root": "root"
      }
     },
     "output_type": "execute_result"
    }
   ],
   "source": [
    "from IPython.display import JSON\n",
    "\n",
    "r = download_manager.retrieve_electricity_consumption(meter_mpan=meter_mpan, meter_serial=meter_serial)\n",
    "\n",
    "JSON(r.json())"
   ]
  },
  {
   "cell_type": "markdown",
   "metadata": {},
   "source": [
    "<br>\n",
    "\n",
    "We can use another `octopyenergy` helper function, `response_to_data` to convert the response into a dataframe.\n",
    "\n",
    "N.b. this will only work for responses which can be converted into a dataframe, such as those from `retrieve_electricity_consumption` and `retrieve_gas_consumption`. "
   ]
  },
  {
   "cell_type": "code",
   "execution_count": 38,
   "metadata": {},
   "outputs": [
    {
     "data": {
      "text/plain": [
       "interval_start\n",
       "2020-10-26 00:00:00+00:00    0.442\n",
       "2020-10-19 00:30:00+01:00    3.520\n",
       "2020-10-12 00:00:00+01:00    2.310\n",
       "2020-10-10 00:30:00+01:00    0.392\n",
       "Name: consumption, dtype: float64"
      ]
     },
     "execution_count": 38,
     "metadata": {},
     "output_type": "execute_result"
    }
   ],
   "source": [
    "s_elec_consumption = oe.api.response_to_data(r)\n",
    "\n",
    "s_elec_consumption.head()"
   ]
  },
  {
   "cell_type": "markdown",
   "metadata": {},
   "source": [
    "<br>\n",
    "\n",
    "The deepest abstraction level is available through the `query_endpoint` method, this provides access to all of the end-points but requires a larger number of parameters to be passed. The benefit of this level is that it can be easier to work with when the end-point being used is specified through another variable."
   ]
  },
  {
   "cell_type": "code",
   "execution_count": 40,
   "metadata": {},
   "outputs": [
    {
     "data": {
      "application/json": {
       "count": 4,
       "next": null,
       "previous": null,
       "results": [
        {
         "consumption": 0.442,
         "interval_end": "2020-10-27T23:30:00Z",
         "interval_start": "2020-10-26T00:00:00Z"
        },
        {
         "consumption": 3.52,
         "interval_end": "2020-10-26T00:00:00Z",
         "interval_start": "2020-10-19T00:30:00+01:00"
        },
        {
         "consumption": 2.31,
         "interval_end": "2020-10-18T00:30:00+01:00",
         "interval_start": "2020-10-12T00:00:00+01:00"
        },
        {
         "consumption": 0.392,
         "interval_end": "2020-10-12T00:00:00+01:00",
         "interval_start": "2020-10-10T00:30:00+01:00"
        }
       ]
      },
      "text/plain": [
       "<IPython.core.display.JSON object>"
      ]
     },
     "execution_count": 40,
     "metadata": {
      "application/json": {
       "expanded": false,
       "root": "root"
      }
     },
     "output_type": "execute_result"
    }
   ],
   "source": [
    "end_point = 'retrieve_electricity_consumption'\n",
    "\n",
    "end_point_kwargs = {\n",
    "    'meter_mpan': meter_mpan,\n",
    "    'meter_serial': meter_serial,\n",
    "    'group_by': 'week'\n",
    "}\n",
    "\n",
    "r = download_manager.query_endpoint(end_point, end_point_kwargs)\n",
    "\n",
    "JSON(r.json())"
   ]
  }
 ],
 "metadata": {
  "kernelspec": {
   "display_name": "Octopy-Energy",
   "language": "python",
   "name": "octopy-energy"
  },
  "language_info": {
   "codemirror_mode": {
    "name": "ipython",
    "version": 3
   },
   "file_extension": ".py",
   "mimetype": "text/x-python",
   "name": "python",
   "nbconvert_exporter": "python",
   "pygments_lexer": "ipython3",
   "version": "3.7.8"
  }
 },
 "nbformat": 4,
 "nbformat_minor": 4
}
